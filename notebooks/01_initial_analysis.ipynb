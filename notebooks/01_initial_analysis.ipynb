{
 "cells": [
  {
   "cell_type": "code",
   "execution_count": 18,
   "id": "initial_id",
   "metadata": {
    "collapsed": true,
    "ExecuteTime": {
     "end_time": "2023-11-14T04:24:08.967090Z",
     "start_time": "2023-11-14T04:24:08.960856Z"
    }
   },
   "outputs": [],
   "source": [
    "import pandas as pd\n",
    "from model import BulkSilicate"
   ]
  },
  {
   "cell_type": "markdown",
   "source": [
    "# Parameters"
   ],
   "metadata": {
    "collapsed": false
   },
   "id": "5f7f83ab26bbc761"
  },
  {
   "cell_type": "code",
   "execution_count": 19,
   "outputs": [],
   "source": [
    "bsm_model = \"../model/data/bsm_yoshizaki_2020.csv\""
   ],
   "metadata": {
    "collapsed": false,
    "ExecuteTime": {
     "end_time": "2023-11-14T04:24:08.967926Z",
     "start_time": "2023-11-14T04:24:08.964792Z"
    }
   },
   "id": "bd42782513941a01"
  },
  {
   "cell_type": "markdown",
   "source": [
    "# Load BSM Model from Yoshizaki, 2020"
   ],
   "metadata": {
    "collapsed": false
   },
   "id": "d0ab9eddcb5b6a5"
  },
  {
   "cell_type": "code",
   "execution_count": 20,
   "outputs": [
    {
     "data": {
      "text/plain": "       Weight (pct)\nOxide              \nSiO2         45.500\nMgO          31.000\nFeO          14.700\nAl2O3         3.590\nCaO           2.880\nCr2O3         0.880\nNa2O          0.590\nMnO           0.370\nTiO2          0.170\nP2O5          0.170\nNiO           0.046\nK2O           0.043",
      "text/html": "<div>\n<style scoped>\n    .dataframe tbody tr th:only-of-type {\n        vertical-align: middle;\n    }\n\n    .dataframe tbody tr th {\n        vertical-align: top;\n    }\n\n    .dataframe thead th {\n        text-align: right;\n    }\n</style>\n<table border=\"1\" class=\"dataframe\">\n  <thead>\n    <tr style=\"text-align: right;\">\n      <th></th>\n      <th>Weight (pct)</th>\n    </tr>\n    <tr>\n      <th>Oxide</th>\n      <th></th>\n    </tr>\n  </thead>\n  <tbody>\n    <tr>\n      <th>SiO2</th>\n      <td>45.500</td>\n    </tr>\n    <tr>\n      <th>MgO</th>\n      <td>31.000</td>\n    </tr>\n    <tr>\n      <th>FeO</th>\n      <td>14.700</td>\n    </tr>\n    <tr>\n      <th>Al2O3</th>\n      <td>3.590</td>\n    </tr>\n    <tr>\n      <th>CaO</th>\n      <td>2.880</td>\n    </tr>\n    <tr>\n      <th>Cr2O3</th>\n      <td>0.880</td>\n    </tr>\n    <tr>\n      <th>Na2O</th>\n      <td>0.590</td>\n    </tr>\n    <tr>\n      <th>MnO</th>\n      <td>0.370</td>\n    </tr>\n    <tr>\n      <th>TiO2</th>\n      <td>0.170</td>\n    </tr>\n    <tr>\n      <th>P2O5</th>\n      <td>0.170</td>\n    </tr>\n    <tr>\n      <th>NiO</th>\n      <td>0.046</td>\n    </tr>\n    <tr>\n      <th>K2O</th>\n      <td>0.043</td>\n    </tr>\n  </tbody>\n</table>\n</div>"
     },
     "execution_count": 20,
     "metadata": {},
     "output_type": "execute_result"
    }
   ],
   "source": [
    "bsm = BulkSilicate.from_csv_model(bsm_model)\n",
    "pd.DataFrame(\n",
    "    [{\"Oxide\": k, \"Weight (pct)\": v} for k, v in bsm.oxides_wt_pct.items()]\n",
    ").set_index(\"Oxide\").sort_values(by=\"Weight (pct)\", ascending=False)"
   ],
   "metadata": {
    "collapsed": false,
    "ExecuteTime": {
     "end_time": "2023-11-14T04:24:08.976336Z",
     "start_time": "2023-11-14T04:24:08.968590Z"
    }
   },
   "id": "c6305bb132ee14e4"
  },
  {
   "cell_type": "markdown",
   "source": [
    "## Calculate molar mass ratio per element"
   ],
   "metadata": {
    "collapsed": false
   },
   "id": "5f951055a180c2bf"
  },
  {
   "cell_type": "code",
   "execution_count": 21,
   "outputs": [
    {
     "data": {
      "text/plain": "         Weight (pct)\nElement              \nO            0.430437\nSi           0.212814\nMg           0.187057\nFe           0.114332\nCa           0.020596\nAl           0.019012\nCr           0.006025\nNa           0.004380\nMn           0.002867\nTi           0.001020\nP            0.000742\nNi           0.000362\nK            0.000357",
      "text/html": "<div>\n<style scoped>\n    .dataframe tbody tr th:only-of-type {\n        vertical-align: middle;\n    }\n\n    .dataframe tbody tr th {\n        vertical-align: top;\n    }\n\n    .dataframe thead th {\n        text-align: right;\n    }\n</style>\n<table border=\"1\" class=\"dataframe\">\n  <thead>\n    <tr style=\"text-align: right;\">\n      <th></th>\n      <th>Weight (pct)</th>\n    </tr>\n    <tr>\n      <th>Element</th>\n      <th></th>\n    </tr>\n  </thead>\n  <tbody>\n    <tr>\n      <th>O</th>\n      <td>0.430437</td>\n    </tr>\n    <tr>\n      <th>Si</th>\n      <td>0.212814</td>\n    </tr>\n    <tr>\n      <th>Mg</th>\n      <td>0.187057</td>\n    </tr>\n    <tr>\n      <th>Fe</th>\n      <td>0.114332</td>\n    </tr>\n    <tr>\n      <th>Ca</th>\n      <td>0.020596</td>\n    </tr>\n    <tr>\n      <th>Al</th>\n      <td>0.019012</td>\n    </tr>\n    <tr>\n      <th>Cr</th>\n      <td>0.006025</td>\n    </tr>\n    <tr>\n      <th>Na</th>\n      <td>0.004380</td>\n    </tr>\n    <tr>\n      <th>Mn</th>\n      <td>0.002867</td>\n    </tr>\n    <tr>\n      <th>Ti</th>\n      <td>0.001020</td>\n    </tr>\n    <tr>\n      <th>P</th>\n      <td>0.000742</td>\n    </tr>\n    <tr>\n      <th>Ni</th>\n      <td>0.000362</td>\n    </tr>\n    <tr>\n      <th>K</th>\n      <td>0.000357</td>\n    </tr>\n  </tbody>\n</table>\n</div>"
     },
     "execution_count": 21,
     "metadata": {},
     "output_type": "execute_result"
    }
   ],
   "source": [
    "pd.DataFrame(\n",
    "    [{\"Element\": k, \"Weight (pct)\": v} for k, v in bsm.molar_masses().items()]\n",
    ").set_index(\"Element\").sort_values(by=\"Weight (pct)\", ascending=False)"
   ],
   "metadata": {
    "collapsed": false,
    "ExecuteTime": {
     "end_time": "2023-11-14T04:24:08.990451Z",
     "start_time": "2023-11-14T04:24:08.980164Z"
    }
   },
   "id": "89e0d1854e4c0674"
  },
  {
   "cell_type": "code",
   "execution_count": 22,
   "outputs": [],
   "source": [],
   "metadata": {
    "collapsed": false,
    "ExecuteTime": {
     "end_time": "2023-11-15T05:37:11.042238Z",
     "start_time": "2023-11-15T05:37:11.038634Z"
    }
   },
   "id": "30a791363d1e4f38"
  }
 ],
 "metadata": {
  "kernelspec": {
   "display_name": "Python 3",
   "language": "python",
   "name": "python3"
  },
  "language_info": {
   "codemirror_mode": {
    "name": "ipython",
    "version": 2
   },
   "file_extension": ".py",
   "mimetype": "text/x-python",
   "name": "python",
   "nbconvert_exporter": "python",
   "pygments_lexer": "ipython2",
   "version": "2.7.6"
  }
 },
 "nbformat": 4,
 "nbformat_minor": 5
}
